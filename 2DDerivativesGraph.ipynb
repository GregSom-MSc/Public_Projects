{
 "cells": [
  {
   "cell_type": "markdown",
   "metadata": {},
   "source": [
    "# Creating 2D Graphs to see derivatives\n",
    "SGMS 2025"
   ]
  },
  {
   "cell_type": "markdown",
   "metadata": {},
   "source": [
    "Import the libraries:"
   ]
  },
  {
   "cell_type": "code",
   "execution_count": 129,
   "metadata": {},
   "outputs": [],
   "source": [
    "import numpy as np\n",
    "import matplotlib.pyplot as plt\n",
    "import pandas as pd\n",
    "import sympy as sp\n",
    "import ipywidgets as widgets\n",
    "from IPython.display import display"
   ]
  },
  {
   "cell_type": "markdown",
   "metadata": {},
   "source": [
    "We introduce Sympy to calculate symbolic derivatives:"
   ]
  },
  {
   "cell_type": "code",
   "execution_count": 130,
   "metadata": {},
   "outputs": [],
   "source": [
    "x = sp.Symbol('x')\n",
    "\n",
    "def get_derivative(expr):\n",
    "    \"\"\"Calculates the derivative of a symbolic expression.\"\"\"\n",
    "    return sp.diff(expr, x)"
   ]
  },
  {
   "cell_type": "markdown",
   "metadata": {},
   "source": [
    "Function:"
   ]
  },
  {
   "cell_type": "code",
   "execution_count": 165,
   "metadata": {},
   "outputs": [],
   "source": [
    "def create_2dGraph(x1, function_name, title=\"Derivative Graph\"):\n",
    "    \"\"\"This function takes the chosen function and maps it into a 2d graph.\n",
    "        Then, it locates and shows the derivative, as well as the tangent that defines it.\n",
    "\n",
    "    Args:\n",
    "        function: choose it from the list. You can add your desired functions.\n",
    "        x1: defines the point where the derivative will be computed and shown.\n",
    "    The tangent line is defined as:\n",
    "        y = b + m * (x - x1)\n",
    "    \"\"\"\n",
    "    symbolic_expr = sp.sympify(function_name)\n",
    "    f = functions[function_name]\n",
    "    \n",
    "    # Define the domain:\n",
    "    values = np.linspace(x1-20,x1+10, 200)\n",
    "    # We start by plotting the function:\n",
    "    plt.figure(figsize=(5,5))\n",
    "    plt.plot(values, f(values), color='#134074')\n",
    "    b = f(x1)\n",
    "    \n",
    "    # Define the domain where the derivative-line will live:\n",
    "    xrange = np.linspace(x1-3,x1+3,20)\n",
    "    \n",
    "    # Now, we will compute the derivative using symbolic differentiation\n",
    "    derivative_expr = get_derivative(symbolic_expr)\n",
    "    derivative_func = sp.lambdify(x, derivative_expr)\n",
    "    \n",
    "    # Now, we add the tangent and derivative point:\n",
    "    def line(x, x1, b): return derivative_func(x1) * (x - x1) + b\n",
    "    #And finish the plot:\n",
    "    plt.plot(xrange, line(xrange, x1, b), '--', color='#FF2626')\n",
    "    plt.scatter(x1, b, s=10, color='#3D4042')\n",
    "    plt.title(f\"Derivative of {chosen_function_name} computed at {x1}\", fontsize=12, fontweight='bold', color='#134074')\n",
    "    \n",
    "    plt.xlabel(\"x\", fontsize=10) \n",
    "    plt.ylabel(\"y\", fontsize=10) \n",
    "    plt.xticks(fontsize=8) \n",
    "    plt.yticks(fontsize=8) \n",
    "    \n",
    "    plt.tight_layout()\n",
    "    plt.show()"
   ]
  },
  {
   "cell_type": "markdown",
   "metadata": {},
   "source": [
    "Now, let's create our function menu:"
   ]
  },
  {
   "cell_type": "code",
   "execution_count": 133,
   "metadata": {},
   "outputs": [],
   "source": [
    "functions = {\n",
    "    \"x^2\": lambda x: x**2,\n",
    "    \"log(x)\": lambda x: np.log(x),  # Note: log(x) requires x > 0\n",
    "    \"exp(x)\": lambda x: np.exp(x),\n",
    "    \"x^(1/2)\": lambda x: sp.sqrt(x),  # Note: sqrt(x) requires x >= 0\n",
    "    \"x^3\": lambda x: x**3,\n",
    "}"
   ]
  },
  {
   "cell_type": "code",
   "execution_count": 144,
   "metadata": {},
   "outputs": [
    {
     "data": {
      "application/vnd.jupyter.widget-view+json": {
       "model_id": "3f694bb628c24313a7496d1cf86a5f6a",
       "version_major": 2,
       "version_minor": 0
      },
      "text/plain": [
       "Dropdown(description='Choose a function:', options=('x^2', 'log(x)', 'exp(x)', 'x^(1/2)', 'x^3'), value='x^2')"
      ]
     },
     "metadata": {},
     "output_type": "display_data"
    }
   ],
   "source": [
    "function_dropdown = widgets.Dropdown(\n",
    "    options=list(functions.keys()),\n",
    "    description='Choose a function:'\n",
    ")\n",
    "display(function_dropdown)\n"
   ]
  },
  {
   "cell_type": "markdown",
   "metadata": {},
   "source": [
    "Let's plot it!\n",
    "\n",
    "First, choose the function from above and run the following cell:"
   ]
  },
  {
   "cell_type": "markdown",
   "metadata": {},
   "source": [
    "Now, choose the value for X"
   ]
  },
  {
   "cell_type": "code",
   "execution_count": 146,
   "metadata": {},
   "outputs": [
    {
     "name": "stdout",
     "output_type": "stream",
     "text": [
      "Choose a number:\n"
     ]
    }
   ],
   "source": [
    "print(\"Choose a number:\")\n",
    "x1 = input(\"Enter the number: \")\n",
    "x1 = float(x1)"
   ]
  },
  {
   "cell_type": "code",
   "execution_count": null,
   "metadata": {},
   "outputs": [
    {
     "name": "stdout",
     "output_type": "stream",
     "text": [
      "x^2 and the derivative will be computed on x = 7.0\n"
     ]
    }
   ],
   "source": [
    "print(chosen_function_name, \"and the derivative will be computed on x =\", x1)"
   ]
  },
  {
   "cell_type": "code",
   "execution_count": 166,
   "metadata": {},
   "outputs": [
    {
     "data": {
      "image/png": "[encoded data removed]",
      "text/plain": [
       "<Figure size 500x500 with 1 Axes>"
      ]
     },
     "metadata": {},
     "output_type": "display_data"
    }
   ],
   "source": [
    "create_2dGraph(x1, chosen_function_name)"
   ]
  },
  {
   "cell_type": "markdown",
   "metadata": {},
   "source": [
    "Now, you can play around! :)"
   ]
  }
 ],
 "metadata": {
  "kernelspec": {
   "display_name": "Python 3",
   "language": "python",
   "name": "python3"
  },
  "language_info": {
   "codemirror_mode": {
    "name": "ipython",
    "version": 3
   },
   "file_extension": ".py",
   "mimetype": "text/x-python",
   "name": "python",
   "nbconvert_exporter": "python",
   "pygments_lexer": "ipython3",
   "version": "3.12.6"
  }
 },
 "nbformat": 4,
 "nbformat_minor": 2
}
