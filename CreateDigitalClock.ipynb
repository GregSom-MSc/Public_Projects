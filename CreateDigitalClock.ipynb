{
 "cells": [
  {
   "cell_type": "markdown",
   "metadata": {},
   "source": [
    "# Digital Clock\n",
    "SGMS 2024"
   ]
  },
  {
   "cell_type": "markdown",
   "metadata": {},
   "source": [
    "Importing necessary libraries:"
   ]
  },
  {
   "cell_type": "code",
   "execution_count": 249,
   "metadata": {},
   "outputs": [],
   "source": [
    "import tkinter as tk\n",
    "from time import strftime, localtime\n",
    "from PIL import Image, ImageTk"
   ]
  },
  {
   "cell_type": "markdown",
   "metadata": {},
   "source": [
    "Name a variable as SomniClock:"
   ]
  },
  {
   "cell_type": "code",
   "execution_count": 250,
   "metadata": {},
   "outputs": [],
   "source": [
    "somniclock = tk.Tk()\n",
    "somniclock.title(\"Somniverse Aesthetic Time Management\")\n",
    "somniclock.geometry(\"400x140\")\n",
    "somniclock.configure(bg=\"#134074\")\n",
    "\n",
    "somniclock.overrideredirect(True)"
   ]
  },
  {
   "cell_type": "markdown",
   "metadata": {},
   "source": [
    "We allow the user to drag the clock:"
   ]
  },
  {
   "cell_type": "code",
   "execution_count": 251,
   "metadata": {},
   "outputs": [
    {
     "data": {
      "text/plain": [
       "'2020027167552move_window'"
      ]
     },
     "execution_count": 251,
     "metadata": {},
     "output_type": "execute_result"
    }
   ],
   "source": [
    "x_offset = 0\n",
    "y_offset = 0\n",
    "\n",
    "# Function to start dragging the window\n",
    "def start_drag(event):\n",
    "    global x_offset, y_offset\n",
    "    x_offset = event.x\n",
    "    y_offset = event.y\n",
    "\n",
    "# Function to move the window\n",
    "def move_window(event):\n",
    "    x = somniclock.winfo_x() + event.x - x_offset\n",
    "    y = somniclock.winfo_y() + event.y - y_offset\n",
    "    somniclock.geometry(f\"+{x}+{y}\")\n",
    "\n",
    "# Bind mouse events for dragging\n",
    "somniclock.bind(\"<ButtonPress-1>\", start_drag)\n",
    "somniclock.bind(\"<B1-Motion>\", move_window)"
   ]
  },
  {
   "cell_type": "markdown",
   "metadata": {},
   "source": [
    "Creating a gradient background."
   ]
  },
  {
   "cell_type": "code",
   "execution_count": 252,
   "metadata": {},
   "outputs": [],
   "source": [
    "# Create Canvas for Gradient Effect\n",
    "canvas = tk.Canvas(somniclock, width=400, height=140)\n",
    "canvas.pack(fill=\"both\", expand=True)\n",
    "\n",
    "# Function to create gradient background\n",
    "def create_gradient(canvas, width, height):\n",
    "    for i in range(height):\n",
    "        color = f\"#{19 + i//6:02x}{49 + i//12:02x}{92 - i//8:02x}\"  # This is marking Dynamic RGB values\n",
    "        canvas.create_line(0, i, width, i, fill=color, width=0)\n",
    "\n",
    "create_gradient(canvas, 400, 140)"
   ]
  },
  {
   "cell_type": "markdown",
   "metadata": {},
   "source": [
    "Let's add some text:"
   ]
  },
  {
   "cell_type": "markdown",
   "metadata": {},
   "source": [
    "First, the greeting."
   ]
  },
  {
   "cell_type": "code",
   "execution_count": 253,
   "metadata": {},
   "outputs": [],
   "source": [
    "greeting_text = canvas.create_text(\n",
    "    200, 20,  # X, Y position\n",
    "    text=\"----Time is Fleeting----\",\n",
    "    font=(\"DejaVu Sans\", 20),\n",
    "    fill=\"#C7DCEB\"\n",
    ")"
   ]
  },
  {
   "cell_type": "markdown",
   "metadata": {},
   "source": [
    "Then the date:"
   ]
  },
  {
   "cell_type": "code",
   "execution_count": 254,
   "metadata": {},
   "outputs": [],
   "source": [
    "date_text = canvas.create_text(\n",
    "    200, 50,  # X, Y position\n",
    "    text=\"\",  # Placeholder for date\n",
    "    font=(\"DejaVu Sans\", 12),\n",
    "    fill=\"white\"\n",
    ")"
   ]
  },
  {
   "cell_type": "markdown",
   "metadata": {},
   "source": [
    "Finally the timer:"
   ]
  },
  {
   "cell_type": "code",
   "execution_count": 255,
   "metadata": {},
   "outputs": [],
   "source": [
    "time_text = canvas.create_text(\n",
    "    200, 90,  # X, Y position\n",
    "    text=\"\",  # Placeholder for time\n",
    "    font=(\"DejaVu Sans\", 50),\n",
    "    fill=\"white\"\n",
    ")"
   ]
  },
  {
   "cell_type": "markdown",
   "metadata": {},
   "source": [
    "Then, let's create a function that will update the time in our aesthetic clock:"
   ]
  },
  {
   "cell_type": "code",
   "execution_count": 256,
   "metadata": {},
   "outputs": [],
   "source": [
    "def time_pass():\n",
    "    \n",
    "    \"\"\"_Tips:_\n",
    "    If you want a 12-hour format with AM/PM, use \"%I:%M:%S %p\"\n",
    "    \n",
    "    \"\"\"\n",
    "    \n",
    "    present_time = strftime(\"%H:%M:%S\")\n",
    "    current_date = strftime(\"%A, %d %B %Y\", localtime())\n",
    "    canvas.itemconfig(time_text, text=present_time)\n",
    "    canvas.itemconfig(date_text, text=current_date)\n",
    "    canvas.after(1000, time_pass)\n",
    "\n"
   ]
  },
  {
   "cell_type": "markdown",
   "metadata": {},
   "source": [
    "Now, let's add a Close Button:"
   ]
  },
  {
   "cell_type": "code",
   "execution_count": 257,
   "metadata": {},
   "outputs": [],
   "source": [
    "def close_clock():\n",
    "    somniclock.destroy()\n",
    "    \n",
    "close_button = tk.Button(\n",
    "    somniclock,\n",
    "    text=\"X\",\n",
    "    font=(\"DejaVu Sans Bold\", 10),\n",
    "    bg=\"#13315C\",\n",
    "    fg=\"white\",\n",
    "    activebackground=\"#1b4965\",\n",
    "    activeforeground=\"white\",\n",
    "    bd=0,\n",
    "    padx=1,\n",
    "    pady=3,\n",
    "    command=close_clock\n",
    ")\n",
    "close_button.place(relx=0.98, rely=0.25, anchor=\"se\")  # Position at the bottom-right corner\n"
   ]
  },
  {
   "cell_type": "markdown",
   "metadata": {},
   "source": [
    "Now the Clock Begins!!"
   ]
  },
  {
   "cell_type": "code",
   "execution_count": 258,
   "metadata": {},
   "outputs": [
    {
     "ename": "KeyboardInterrupt",
     "evalue": "",
     "output_type": "error",
     "traceback": [
      "\u001b[1;31m---------------------------------------------------------------------------\u001b[0m",
      "\u001b[1;31mKeyboardInterrupt\u001b[0m                         Traceback (most recent call last)",
      "Cell \u001b[1;32mIn[258], line 3\u001b[0m\n\u001b[0;32m      1\u001b[0m time_pass()\n\u001b[1;32m----> 3\u001b[0m \u001b[43msomniclock\u001b[49m\u001b[38;5;241;43m.\u001b[39;49m\u001b[43mmainloop\u001b[49m\u001b[43m(\u001b[49m\u001b[43m)\u001b[49m\n",
      "File \u001b[1;32mc:\\Users\\filos\\AppData\\Local\\Programs\\Python\\Python312\\Lib\\tkinter\\__init__.py:1505\u001b[0m, in \u001b[0;36mMisc.mainloop\u001b[1;34m(self, n)\u001b[0m\n\u001b[0;32m   1503\u001b[0m \u001b[38;5;28;01mdef\u001b[39;00m \u001b[38;5;21mmainloop\u001b[39m(\u001b[38;5;28mself\u001b[39m, n\u001b[38;5;241m=\u001b[39m\u001b[38;5;241m0\u001b[39m):\n\u001b[0;32m   1504\u001b[0m \u001b[38;5;250m    \u001b[39m\u001b[38;5;124;03m\"\"\"Call the mainloop of Tk.\"\"\"\u001b[39;00m\n\u001b[1;32m-> 1505\u001b[0m     \u001b[38;5;28;43mself\u001b[39;49m\u001b[38;5;241;43m.\u001b[39;49m\u001b[43mtk\u001b[49m\u001b[38;5;241;43m.\u001b[39;49m\u001b[43mmainloop\u001b[49m\u001b[43m(\u001b[49m\u001b[43mn\u001b[49m\u001b[43m)\u001b[49m\n",
      "\u001b[1;31mKeyboardInterrupt\u001b[0m: "
     ]
    }
   ],
   "source": [
    "time_pass()\n",
    "\n",
    "somniclock.mainloop()"
   ]
  }
 ],
 "metadata": {
  "kernelspec": {
   "display_name": "Python 3",
   "language": "python",
   "name": "python3"
  },
  "language_info": {
   "codemirror_mode": {
    "name": "ipython",
    "version": 3
   },
   "file_extension": ".py",
   "mimetype": "text/x-python",
   "name": "python",
   "nbconvert_exporter": "python",
   "pygments_lexer": "ipython3",
   "version": "3.12.6"
  }
 },
 "nbformat": 4,
 "nbformat_minor": 2
}
