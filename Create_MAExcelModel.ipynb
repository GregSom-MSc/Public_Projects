{
 "cells": [
  {
   "cell_type": "markdown",
   "metadata": {},
   "source": [
    "# Excel M&A Simplest Model\n",
    "SGMS 2025\n",
    "\n",
    "[Draft]"
   ]
  },
  {
   "cell_type": "code",
   "execution_count": 19,
   "metadata": {},
   "outputs": [],
   "source": [
    "import pandas as pd"
   ]
  },
  {
   "cell_type": "markdown",
   "metadata": {},
   "source": [
    "## First, we create a dictionary for the M&A model placeholders."
   ]
  },
  {
   "cell_type": "code",
   "execution_count": 20,
   "metadata": {},
   "outputs": [],
   "source": [
    "data = {\n",
    "    \"Concept\": [\n",
    "        \"Transaction Assumptions\", \"\", \n",
    "        \"Purchase Price ($M)\", \"EBITDA Multiple\", \"Revenue Multiple\", \"\", \n",
    "        \"Debt Financing (%)\", \"Equity Financing (%)\", \"Synergies ($M)\", \"\", \n",
    "        \"Sources & Uses\", \"\", \n",
    "        \"Debt Raised ($M)\", \"Equity Raised ($M)\", \"Total Sources ($M)\", \"\", \n",
    "        \"Purchase Price ($M)\", \"Transaction Fees ($M)\", \"Debt Refinanced ($M)\", \"Total Uses ($M)\", \"\", \n",
    "        \"Financial Projections\", \"\",\n",
    "        \"Revenue ($M)\", \"EBITDA ($M)\", \"Net Income ($M)\", \"CapEx ($M)\", \"Working Capital ($M)\", \"\", \n",
    "        \"Debt Schedule\", \"\", \n",
    "        \"Beginning Debt ($M)\", \"Interest Expense ($M)\", \"Principal Payment ($M)\", \"Ending Debt ($M)\", \"\",\n",
    "        \"Exit Analysis\", \"\", \n",
    "        \"Exit Year\", \"Exit EBITDA Multiple\", \"Exit Enterprise Value ($M)\", \"Debt Remaining ($M)\", \"Equity Value ($M)\", \"IRR (%)\"\n",
    "    ],\n",
    "    \"Formula\": [\n",
    "        \"\", \"\", \n",
    "        \"Enter Value\", \"Enter Value\", \"Enter Value\", \"\", \n",
    "        \"Enter Value\", \"Enter Value\", \"Enter Value\", \"\", \n",
    "        \"\", \"\", \n",
    "        \"Debt Financing * Purchase Price\", \"Equity Financing * Purchase Price\", \"Debt Raised+Equity Raised\", \"\", \n",
    "        \"Purchase Price\", \"Enter Fees\", \"Enter Refinanced Debt\", \"SUM(above)\", \"\", \n",
    "        \"\", \"\",\n",
    "        \"Enter Value\", \"Revenue * EBITDA Margin\", \"Enter Value\", \"Enter Value\", \"Enter Value\", \"\", \n",
    "        \"\", \"\", \n",
    "        \"Enter Starting Debt\", \"Beginning Debt * Interest Rate\", \"Enter Principal Payment\", \"Beginning Debt-Principal Payment\", \"\", \n",
    "        \"\", \"\", \n",
    "        \"Enter Year\", \"Enter Exit Multiple\", \"Exit Multiple * EBITDA\", \"Debt at Exit\", \"Exit EV - Debt Remaining\", \"IRR()\"\n",
    "    ],\n",
    "    \"Enter Values or Formulas\": [\"\", \"\", \n",
    "        \"\", \"\", \"\", \"\", \"\", \"\", \"\", \"\", \n",
    "        \"\", \"\", \"\", \"\", \"\", \"\", \n",
    "        \"\", \"\", \"\", \"\", \"\", \n",
    "        \"\", \"\", \"\", \"\", \"\", \"\", \"\", \"\", \n",
    "        \"\", \"\", \"\", \"\", \"\", \"\", \"\",\n",
    "        \"\", \"\", \"\", \"\", \"\", \"\", \"\", \"\"\n",
    "    ]\n",
    "}"
   ]
  },
  {
   "cell_type": "markdown",
   "metadata": {},
   "source": [
    "Now, we convert this into a dataFrame, to be copied into the excel file."
   ]
  },
  {
   "cell_type": "code",
   "execution_count": 21,
   "metadata": {},
   "outputs": [],
   "source": [
    "# Convert to a DataFrame\n",
    "df = pd.DataFrame(data)"
   ]
  },
  {
   "cell_type": "markdown",
   "metadata": {},
   "source": [
    "And now, we save it!"
   ]
  },
  {
   "cell_type": "code",
   "execution_count": 22,
   "metadata": {},
   "outputs": [],
   "source": [
    "# Save to Excel file\n",
    "file_path = \"M&A_Model_Template.xlsx\"\n",
    "df.to_excel(file_path, index=False, sheet_name=\"M&A Model\")"
   ]
  },
  {
   "cell_type": "markdown",
   "metadata": {},
   "source": [
    "This is the file:"
   ]
  },
  {
   "cell_type": "code",
   "execution_count": 23,
   "metadata": {},
   "outputs": [
    {
     "data": {
      "text/plain": [
       "'M&A_Model_Template.xlsx'"
      ]
     },
     "execution_count": 23,
     "metadata": {},
     "output_type": "execute_result"
    }
   ],
   "source": [
    "file_path"
   ]
  }
 ],
 "metadata": {
  "kernelspec": {
   "display_name": "Python 3",
   "language": "python",
   "name": "python3"
  },
  "language_info": {
   "codemirror_mode": {
    "name": "ipython",
    "version": 3
   },
   "file_extension": ".py",
   "mimetype": "text/x-python",
   "name": "python",
   "nbconvert_exporter": "python",
   "pygments_lexer": "ipython3",
   "version": "3.12.6"
  }
 },
 "nbformat": 4,
 "nbformat_minor": 2
}
