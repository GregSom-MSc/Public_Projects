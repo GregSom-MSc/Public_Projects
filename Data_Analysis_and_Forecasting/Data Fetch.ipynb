{
 "cells": [
  {
   "cell_type": "markdown",
   "id": "b8b66a90",
   "metadata": {},
   "source": [
    "## Some Data Fetch Graph and Forecast Examples.\n",
    "The interesting thing here is that we are going to automaet forecasting using Prophet and a quick graph.\n",
    "Install these if needed: yfinance prophet streamlit plotly"
   ]
  },
  {
   "cell_type": "markdown",
   "id": "8835340f",
   "metadata": {},
   "source": [
    "You could also create a dedicated environment...\n",
    "In Bash:\n",
    "\n",
    "    conda create -n econdash python=3.10\n",
    "    conda activate econdash\n",
    "    pip install pandas yfinance prophet plotly streamlit ipykernel\n",
    "    python -m ipykernel install --user --name=econdash --display-name \"Python (econdash)\"\n"
   ]
  },
  {
   "cell_type": "code",
   "execution_count": 33,
   "id": "cd02e919",
   "metadata": {},
   "outputs": [
    {
     "name": "stdout",
     "output_type": "stream",
     "text": [
      "Requirement already satisfied: yfinance in c:\\users\\filos\\appdata\\local\\programs\\python\\python311\\lib\\site-packages (0.2.61)\n",
      "Requirement already satisfied: prophet in c:\\users\\filos\\appdata\\local\\programs\\python\\python311\\lib\\site-packages (1.1.6)\n",
      "Requirement already satisfied: plotly in c:\\users\\filos\\appdata\\local\\programs\\python\\python311\\lib\\site-packages (6.1.0)\n",
      "Requirement already satisfied: streamlit in c:\\users\\filos\\appdata\\local\\programs\\python\\python311\\lib\\site-packages (1.45.1)\n",
      "Requirement already satisfied: pandas>=1.3.0 in c:\\users\\filos\\appdata\\local\\programs\\python\\python311\\lib\\site-packages (from yfinance) (2.2.3)\n",
      "Requirement already satisfied: numpy>=1.16.5 in c:\\users\\filos\\appdata\\local\\programs\\python\\python311\\lib\\site-packages (from yfinance) (1.26.2)\n",
      "Requirement already satisfied: requests>=2.31 in c:\\users\\filos\\appdata\\roaming\\python\\python311\\site-packages (from yfinance) (2.31.0)\n",
      "Requirement already satisfied: multitasking>=0.0.7 in c:\\users\\filos\\appdata\\local\\programs\\python\\python311\\lib\\site-packages (from yfinance) (0.0.11)\n",
      "Requirement already satisfied: platformdirs>=2.0.0 in c:\\users\\filos\\appdata\\roaming\\python\\python311\\site-packages (from yfinance) (3.11.0)\n",
      "Requirement already satisfied: pytz>=2022.5 in c:\\users\\filos\\appdata\\local\\programs\\python\\python311\\lib\\site-packages (from yfinance) (2025.2)\n",
      "Requirement already satisfied: frozendict>=2.3.4 in c:\\users\\filos\\appdata\\local\\programs\\python\\python311\\lib\\site-packages (from yfinance) (2.4.6)\n",
      "Requirement already satisfied: peewee>=3.16.2 in c:\\users\\filos\\appdata\\local\\programs\\python\\python311\\lib\\site-packages (from yfinance) (3.18.1)\n",
      "Requirement already satisfied: beautifulsoup4>=4.11.1 in c:\\users\\filos\\appdata\\roaming\\python\\python311\\site-packages (from yfinance) (4.12.2)\n",
      "Requirement already satisfied: curl_cffi>=0.7 in c:\\users\\filos\\appdata\\local\\programs\\python\\python311\\lib\\site-packages (from yfinance) (0.11.1)\n",
      "Requirement already satisfied: protobuf>=3.19.0 in c:\\users\\filos\\appdata\\local\\programs\\python\\python311\\lib\\site-packages (from yfinance) (6.31.0)\n",
      "Requirement already satisfied: websockets>=13.0 in c:\\users\\filos\\appdata\\local\\programs\\python\\python311\\lib\\site-packages (from yfinance) (15.0.1)\n",
      "Requirement already satisfied: cmdstanpy>=1.0.4 in c:\\users\\filos\\appdata\\local\\programs\\python\\python311\\lib\\site-packages (from prophet) (1.2.5)\n",
      "Requirement already satisfied: matplotlib>=2.0.0 in c:\\users\\filos\\appdata\\local\\programs\\python\\python311\\lib\\site-packages (from prophet) (3.8.1)\n",
      "Requirement already satisfied: holidays<1,>=0.25 in c:\\users\\filos\\appdata\\local\\programs\\python\\python311\\lib\\site-packages (from prophet) (0.72)\n",
      "Requirement already satisfied: tqdm>=4.36.1 in c:\\users\\filos\\appdata\\local\\programs\\python\\python311\\lib\\site-packages (from prophet) (4.67.1)\n",
      "Requirement already satisfied: importlib-resources in c:\\users\\filos\\appdata\\local\\programs\\python\\python311\\lib\\site-packages (from prophet) (6.5.2)\n",
      "Requirement already satisfied: narwhals>=1.15.1 in c:\\users\\filos\\appdata\\local\\programs\\python\\python311\\lib\\site-packages (from plotly) (1.39.1)\n",
      "Requirement already satisfied: packaging in c:\\users\\filos\\appdata\\roaming\\python\\python311\\site-packages (from plotly) (23.2)\n",
      "Requirement already satisfied: altair<6,>=4.0 in c:\\users\\filos\\appdata\\local\\programs\\python\\python311\\lib\\site-packages (from streamlit) (5.5.0)\n",
      "Requirement already satisfied: blinker<2,>=1.5.0 in c:\\users\\filos\\appdata\\local\\programs\\python\\python311\\lib\\site-packages (from streamlit) (1.9.0)\n",
      "Requirement already satisfied: cachetools<6,>=4.0 in c:\\users\\filos\\appdata\\local\\programs\\python\\python311\\lib\\site-packages (from streamlit) (5.5.2)\n",
      "Requirement already satisfied: click<9,>=7.0 in c:\\users\\filos\\appdata\\local\\programs\\python\\python311\\lib\\site-packages (from streamlit) (8.2.0)\n",
      "Requirement already satisfied: pillow<12,>=7.1.0 in c:\\users\\filos\\appdata\\local\\programs\\python\\python311\\lib\\site-packages (from streamlit) (10.1.0)\n",
      "Requirement already satisfied: pyarrow>=7.0 in c:\\users\\filos\\appdata\\local\\programs\\python\\python311\\lib\\site-packages (from streamlit) (20.0.0)\n",
      "Requirement already satisfied: tenacity<10,>=8.1.0 in c:\\users\\filos\\appdata\\local\\programs\\python\\python311\\lib\\site-packages (from streamlit) (9.1.2)\n",
      "Requirement already satisfied: toml<2,>=0.10.1 in c:\\users\\filos\\appdata\\local\\programs\\python\\python311\\lib\\site-packages (from streamlit) (0.10.2)\n",
      "Requirement already satisfied: typing-extensions<5,>=4.4.0 in c:\\users\\filos\\appdata\\local\\programs\\python\\python311\\lib\\site-packages (from streamlit) (4.13.2)\n",
      "Requirement already satisfied: watchdog<7,>=2.1.5 in c:\\users\\filos\\appdata\\local\\programs\\python\\python311\\lib\\site-packages (from streamlit) (6.0.0)\n",
      "Requirement already satisfied: gitpython!=3.1.19,<4,>=3.0.7 in c:\\users\\filos\\appdata\\local\\programs\\python\\python311\\lib\\site-packages (from streamlit) (3.1.44)\n",
      "Requirement already satisfied: pydeck<1,>=0.8.0b4 in c:\\users\\filos\\appdata\\local\\programs\\python\\python311\\lib\\site-packages (from streamlit) (0.9.1)\n",
      "Requirement already satisfied: tornado<7,>=6.0.3 in c:\\users\\filos\\appdata\\roaming\\python\\python311\\site-packages (from streamlit) (6.3.3)\n",
      "Requirement already satisfied: jinja2 in c:\\users\\filos\\appdata\\roaming\\python\\python311\\site-packages (from altair<6,>=4.0->streamlit) (3.1.2)\n",
      "Requirement already satisfied: jsonschema>=3.0 in c:\\users\\filos\\appdata\\roaming\\python\\python311\\site-packages (from altair<6,>=4.0->streamlit) (4.19.2)\n",
      "Requirement already satisfied: soupsieve>1.2 in c:\\users\\filos\\appdata\\roaming\\python\\python311\\site-packages (from beautifulsoup4>=4.11.1->yfinance) (2.5)\n",
      "Requirement already satisfied: colorama in c:\\users\\filos\\appdata\\roaming\\python\\python311\\site-packages (from click<9,>=7.0->streamlit) (0.4.6)\n",
      "Requirement already satisfied: stanio<2.0.0,>=0.4.0 in c:\\users\\filos\\appdata\\local\\programs\\python\\python311\\lib\\site-packages (from cmdstanpy>=1.0.4->prophet) (0.5.1)\n",
      "Requirement already satisfied: cffi>=1.12.0 in c:\\users\\filos\\appdata\\roaming\\python\\python311\\site-packages (from curl_cffi>=0.7->yfinance) (1.16.0)\n",
      "Requirement already satisfied: certifi>=2024.2.2 in c:\\users\\filos\\appdata\\local\\programs\\python\\python311\\lib\\site-packages (from curl_cffi>=0.7->yfinance) (2025.4.26)\n",
      "Requirement already satisfied: gitdb<5,>=4.0.1 in c:\\users\\filos\\appdata\\local\\programs\\python\\python311\\lib\\site-packages (from gitpython!=3.1.19,<4,>=3.0.7->streamlit) (4.0.12)\n",
      "Requirement already satisfied: python-dateutil in c:\\users\\filos\\appdata\\roaming\\python\\python311\\site-packages (from holidays<1,>=0.25->prophet) (2.8.2)\n",
      "Requirement already satisfied: contourpy>=1.0.1 in c:\\users\\filos\\appdata\\local\\programs\\python\\python311\\lib\\site-packages (from matplotlib>=2.0.0->prophet) (1.2.0)\n",
      "Requirement already satisfied: cycler>=0.10 in c:\\users\\filos\\appdata\\local\\programs\\python\\python311\\lib\\site-packages (from matplotlib>=2.0.0->prophet) (0.12.1)\n",
      "Requirement already satisfied: fonttools>=4.22.0 in c:\\users\\filos\\appdata\\local\\programs\\python\\python311\\lib\\site-packages (from matplotlib>=2.0.0->prophet) (4.44.0)\n",
      "Requirement already satisfied: kiwisolver>=1.3.1 in c:\\users\\filos\\appdata\\local\\programs\\python\\python311\\lib\\site-packages (from matplotlib>=2.0.0->prophet) (1.4.5)\n",
      "Requirement already satisfied: pyparsing>=2.3.1 in c:\\users\\filos\\appdata\\local\\programs\\python\\python311\\lib\\site-packages (from matplotlib>=2.0.0->prophet) (3.1.1)\n",
      "Requirement already satisfied: tzdata>=2022.7 in c:\\users\\filos\\appdata\\local\\programs\\python\\python311\\lib\\site-packages (from pandas>=1.3.0->yfinance) (2025.2)\n",
      "Requirement already satisfied: charset-normalizer<4,>=2 in c:\\users\\filos\\appdata\\roaming\\python\\python311\\site-packages (from requests>=2.31->yfinance) (3.3.2)\n",
      "Requirement already satisfied: idna<4,>=2.5 in c:\\users\\filos\\appdata\\roaming\\python\\python311\\site-packages (from requests>=2.31->yfinance) (3.4)\n",
      "Requirement already satisfied: urllib3<3,>=1.21.1 in c:\\users\\filos\\appdata\\roaming\\python\\python311\\site-packages (from requests>=2.31->yfinance) (2.0.7)\n",
      "Requirement already satisfied: pycparser in c:\\users\\filos\\appdata\\roaming\\python\\python311\\site-packages (from cffi>=1.12.0->curl_cffi>=0.7->yfinance) (2.21)\n",
      "Requirement already satisfied: smmap<6,>=3.0.1 in c:\\users\\filos\\appdata\\local\\programs\\python\\python311\\lib\\site-packages (from gitdb<5,>=4.0.1->gitpython!=3.1.19,<4,>=3.0.7->streamlit) (5.0.2)\n",
      "Requirement already satisfied: MarkupSafe>=2.0 in c:\\users\\filos\\appdata\\roaming\\python\\python311\\site-packages (from jinja2->altair<6,>=4.0->streamlit) (2.1.3)\n",
      "Requirement already satisfied: attrs>=22.2.0 in c:\\users\\filos\\appdata\\roaming\\python\\python311\\site-packages (from jsonschema>=3.0->altair<6,>=4.0->streamlit) (23.1.0)\n",
      "Requirement already satisfied: jsonschema-specifications>=2023.03.6 in c:\\users\\filos\\appdata\\roaming\\python\\python311\\site-packages (from jsonschema>=3.0->altair<6,>=4.0->streamlit) (2023.7.1)\n",
      "Requirement already satisfied: referencing>=0.28.4 in c:\\users\\filos\\appdata\\roaming\\python\\python311\\site-packages (from jsonschema>=3.0->altair<6,>=4.0->streamlit) (0.30.2)\n",
      "Requirement already satisfied: rpds-py>=0.7.1 in c:\\users\\filos\\appdata\\roaming\\python\\python311\\site-packages (from jsonschema>=3.0->altair<6,>=4.0->streamlit) (0.12.0)\n",
      "Requirement already satisfied: six>=1.5 in c:\\users\\filos\\appdata\\roaming\\python\\python311\\site-packages (from python-dateutil->holidays<1,>=0.25->prophet) (1.16.0)\n",
      "Note: you may need to restart the kernel to use updated packages.\n"
     ]
    },
    {
     "name": "stderr",
     "output_type": "stream",
     "text": [
      "\n",
      "[notice] A new release of pip is available: 23.1.2 -> 25.1.1\n",
      "[notice] To update, run: python.exe -m pip install --upgrade pip\n"
     ]
    }
   ],
   "source": [
    "pip install yfinance prophet plotly streamlit"
   ]
  },
  {
   "cell_type": "code",
   "execution_count": 34,
   "id": "078ace62",
   "metadata": {},
   "outputs": [],
   "source": [
    "import yfinance as yf\n",
    "import pandas as pd\n",
    "from prophet import Prophet\n",
    "import plotly.express as px\n",
    "import streamlit as st\n",
    "import plotly.graph_objects as go"
   ]
  },
  {
   "cell_type": "markdown",
   "id": "17097eb7",
   "metadata": {},
   "source": [
    "### Fetch the data!\n",
    "This arrives with Close, High, Low, Open Prices, Volume and a Date index composed as yyyy-mm-dd\n",
    "When monthly parameter, we have first day of the month. We can choose also a daily feed."
   ]
  },
  {
   "cell_type": "code",
   "execution_count": 35,
   "id": "cd244a91",
   "metadata": {},
   "outputs": [
    {
     "name": "stderr",
     "output_type": "stream",
     "text": [
      "[*********************100%***********************]  1 of 1 completed\n"
     ]
    },
    {
     "data": {
      "text/html": [
       "<div>\n",
       "<style scoped>\n",
       "    .dataframe tbody tr th:only-of-type {\n",
       "        vertical-align: middle;\n",
       "    }\n",
       "\n",
       "    .dataframe tbody tr th {\n",
       "        vertical-align: top;\n",
       "    }\n",
       "\n",
       "    .dataframe thead tr th {\n",
       "        text-align: left;\n",
       "    }\n",
       "\n",
       "    .dataframe thead tr:last-of-type th {\n",
       "        text-align: right;\n",
       "    }\n",
       "</style>\n",
       "<table border=\"1\" class=\"dataframe\">\n",
       "  <thead>\n",
       "    <tr>\n",
       "      <th>Price</th>\n",
       "      <th>Close</th>\n",
       "      <th>High</th>\n",
       "      <th>Low</th>\n",
       "      <th>Open</th>\n",
       "      <th>Volume</th>\n",
       "    </tr>\n",
       "    <tr>\n",
       "      <th>Ticker</th>\n",
       "      <th>^GSPC</th>\n",
       "      <th>^GSPC</th>\n",
       "      <th>^GSPC</th>\n",
       "      <th>^GSPC</th>\n",
       "      <th>^GSPC</th>\n",
       "    </tr>\n",
       "    <tr>\n",
       "      <th>Date</th>\n",
       "      <th></th>\n",
       "      <th></th>\n",
       "      <th></th>\n",
       "      <th></th>\n",
       "      <th></th>\n",
       "    </tr>\n",
       "  </thead>\n",
       "  <tbody>\n",
       "    <tr>\n",
       "      <th>2020-06-01</th>\n",
       "      <td>3100.290039</td>\n",
       "      <td>3233.129883</td>\n",
       "      <td>2965.659912</td>\n",
       "      <td>3038.780029</td>\n",
       "      <td>131458880000</td>\n",
       "    </tr>\n",
       "    <tr>\n",
       "      <th>2020-07-01</th>\n",
       "      <td>3271.120117</td>\n",
       "      <td>3279.989990</td>\n",
       "      <td>3101.169922</td>\n",
       "      <td>3105.919922</td>\n",
       "      <td>96928130000</td>\n",
       "    </tr>\n",
       "    <tr>\n",
       "      <th>2020-08-01</th>\n",
       "      <td>3500.310059</td>\n",
       "      <td>3514.770020</td>\n",
       "      <td>3284.530029</td>\n",
       "      <td>3288.260010</td>\n",
       "      <td>82466520000</td>\n",
       "    </tr>\n",
       "  </tbody>\n",
       "</table>\n",
       "</div>"
      ],
      "text/plain": [
       "Price             Close         High          Low         Open        Volume\n",
       "Ticker            ^GSPC        ^GSPC        ^GSPC        ^GSPC         ^GSPC\n",
       "Date                                                                        \n",
       "2020-06-01  3100.290039  3233.129883  2965.659912  3038.780029  131458880000\n",
       "2020-07-01  3271.120117  3279.989990  3101.169922  3105.919922   96928130000\n",
       "2020-08-01  3500.310059  3514.770020  3284.530029  3288.260010   82466520000"
      ]
     },
     "execution_count": 35,
     "metadata": {},
     "output_type": "execute_result"
    }
   ],
   "source": [
    "df = yf.download('^GSPC', period='5y', interval='1mo')\n",
    "df.head(3)"
   ]
  },
  {
   "cell_type": "code",
   "execution_count": 36,
   "id": "f01a435a",
   "metadata": {},
   "outputs": [
    {
     "data": {
      "text/html": [
       "<div>\n",
       "<style scoped>\n",
       "    .dataframe tbody tr th:only-of-type {\n",
       "        vertical-align: middle;\n",
       "    }\n",
       "\n",
       "    .dataframe tbody tr th {\n",
       "        vertical-align: top;\n",
       "    }\n",
       "\n",
       "    .dataframe thead tr th {\n",
       "        text-align: left;\n",
       "    }\n",
       "</style>\n",
       "<table border=\"1\" class=\"dataframe\">\n",
       "  <thead>\n",
       "    <tr>\n",
       "      <th>Price</th>\n",
       "      <th>Date</th>\n",
       "      <th>Close</th>\n",
       "      <th>High</th>\n",
       "      <th>Low</th>\n",
       "      <th>Open</th>\n",
       "      <th>Volume</th>\n",
       "    </tr>\n",
       "    <tr>\n",
       "      <th>Ticker</th>\n",
       "      <th></th>\n",
       "      <th>^GSPC</th>\n",
       "      <th>^GSPC</th>\n",
       "      <th>^GSPC</th>\n",
       "      <th>^GSPC</th>\n",
       "      <th>^GSPC</th>\n",
       "    </tr>\n",
       "  </thead>\n",
       "  <tbody>\n",
       "    <tr>\n",
       "      <th>0</th>\n",
       "      <td>2020-06-01</td>\n",
       "      <td>3100.290039</td>\n",
       "      <td>3233.129883</td>\n",
       "      <td>2965.659912</td>\n",
       "      <td>3038.780029</td>\n",
       "      <td>131458880000</td>\n",
       "    </tr>\n",
       "    <tr>\n",
       "      <th>1</th>\n",
       "      <td>2020-07-01</td>\n",
       "      <td>3271.120117</td>\n",
       "      <td>3279.989990</td>\n",
       "      <td>3101.169922</td>\n",
       "      <td>3105.919922</td>\n",
       "      <td>96928130000</td>\n",
       "    </tr>\n",
       "    <tr>\n",
       "      <th>2</th>\n",
       "      <td>2020-08-01</td>\n",
       "      <td>3500.310059</td>\n",
       "      <td>3514.770020</td>\n",
       "      <td>3284.530029</td>\n",
       "      <td>3288.260010</td>\n",
       "      <td>82466520000</td>\n",
       "    </tr>\n",
       "  </tbody>\n",
       "</table>\n",
       "</div>"
      ],
      "text/plain": [
       "Price        Date        Close         High          Low         Open  \\\n",
       "Ticker                   ^GSPC        ^GSPC        ^GSPC        ^GSPC   \n",
       "0      2020-06-01  3100.290039  3233.129883  2965.659912  3038.780029   \n",
       "1      2020-07-01  3271.120117  3279.989990  3101.169922  3105.919922   \n",
       "2      2020-08-01  3500.310059  3514.770020  3284.530029  3288.260010   \n",
       "\n",
       "Price         Volume  \n",
       "Ticker         ^GSPC  \n",
       "0       131458880000  \n",
       "1        96928130000  \n",
       "2        82466520000  "
      ]
     },
     "execution_count": 36,
     "metadata": {},
     "output_type": "execute_result"
    }
   ],
   "source": [
    "df=df.reset_index()\n",
    "df.head(3)"
   ]
  },
  {
   "cell_type": "markdown",
   "id": "35af81f1",
   "metadata": {},
   "source": [
    "We added a column for the index, now, we flatten the MultiIndex to meet the forecasting tool requirements: just one row for the columnds."
   ]
  },
  {
   "cell_type": "code",
   "execution_count": 37,
   "id": "335cc67a",
   "metadata": {},
   "outputs": [
    {
     "data": {
      "text/html": [
       "<div>\n",
       "<style scoped>\n",
       "    .dataframe tbody tr th:only-of-type {\n",
       "        vertical-align: middle;\n",
       "    }\n",
       "\n",
       "    .dataframe tbody tr th {\n",
       "        vertical-align: top;\n",
       "    }\n",
       "\n",
       "    .dataframe thead th {\n",
       "        text-align: right;\n",
       "    }\n",
       "</style>\n",
       "<table border=\"1\" class=\"dataframe\">\n",
       "  <thead>\n",
       "    <tr style=\"text-align: right;\">\n",
       "      <th></th>\n",
       "      <th>Date_</th>\n",
       "      <th>Close_^GSPC</th>\n",
       "      <th>High_^GSPC</th>\n",
       "      <th>Low_^GSPC</th>\n",
       "      <th>Open_^GSPC</th>\n",
       "      <th>Volume_^GSPC</th>\n",
       "    </tr>\n",
       "  </thead>\n",
       "  <tbody>\n",
       "    <tr>\n",
       "      <th>0</th>\n",
       "      <td>2020-06-01</td>\n",
       "      <td>3100.290039</td>\n",
       "      <td>3233.129883</td>\n",
       "      <td>2965.659912</td>\n",
       "      <td>3038.780029</td>\n",
       "      <td>131458880000</td>\n",
       "    </tr>\n",
       "    <tr>\n",
       "      <th>1</th>\n",
       "      <td>2020-07-01</td>\n",
       "      <td>3271.120117</td>\n",
       "      <td>3279.989990</td>\n",
       "      <td>3101.169922</td>\n",
       "      <td>3105.919922</td>\n",
       "      <td>96928130000</td>\n",
       "    </tr>\n",
       "    <tr>\n",
       "      <th>2</th>\n",
       "      <td>2020-08-01</td>\n",
       "      <td>3500.310059</td>\n",
       "      <td>3514.770020</td>\n",
       "      <td>3284.530029</td>\n",
       "      <td>3288.260010</td>\n",
       "      <td>82466520000</td>\n",
       "    </tr>\n",
       "  </tbody>\n",
       "</table>\n",
       "</div>"
      ],
      "text/plain": [
       "       Date_  Close_^GSPC   High_^GSPC    Low_^GSPC   Open_^GSPC  Volume_^GSPC\n",
       "0 2020-06-01  3100.290039  3233.129883  2965.659912  3038.780029  131458880000\n",
       "1 2020-07-01  3271.120117  3279.989990  3101.169922  3105.919922   96928130000\n",
       "2 2020-08-01  3500.310059  3514.770020  3284.530029  3288.260010   82466520000"
      ]
     },
     "execution_count": 37,
     "metadata": {},
     "output_type": "execute_result"
    }
   ],
   "source": [
    "if isinstance(df.columns, pd.MultiIndex):\n",
    "    df.columns = ['_'.join(col).strip() if isinstance(\n",
    "        col, tuple) else col for col in df.columns]\n",
    "df.head(3)"
   ]
  },
  {
   "cell_type": "markdown",
   "id": "44e1d724",
   "metadata": {},
   "source": [
    "Then, rename columns:"
   ]
  },
  {
   "cell_type": "code",
   "execution_count": 38,
   "id": "57898d16",
   "metadata": {},
   "outputs": [
    {
     "data": {
      "text/html": [
       "<div>\n",
       "<style scoped>\n",
       "    .dataframe tbody tr th:only-of-type {\n",
       "        vertical-align: middle;\n",
       "    }\n",
       "\n",
       "    .dataframe tbody tr th {\n",
       "        vertical-align: top;\n",
       "    }\n",
       "\n",
       "    .dataframe thead th {\n",
       "        text-align: right;\n",
       "    }\n",
       "</style>\n",
       "<table border=\"1\" class=\"dataframe\">\n",
       "  <thead>\n",
       "    <tr style=\"text-align: right;\">\n",
       "      <th></th>\n",
       "      <th>ds</th>\n",
       "      <th>y</th>\n",
       "      <th>High_^GSPC</th>\n",
       "      <th>Low_^GSPC</th>\n",
       "      <th>Open_^GSPC</th>\n",
       "      <th>Volume_^GSPC</th>\n",
       "    </tr>\n",
       "  </thead>\n",
       "  <tbody>\n",
       "    <tr>\n",
       "      <th>0</th>\n",
       "      <td>2020-06-01</td>\n",
       "      <td>3100.290039</td>\n",
       "      <td>3233.129883</td>\n",
       "      <td>2965.659912</td>\n",
       "      <td>3038.780029</td>\n",
       "      <td>131458880000</td>\n",
       "    </tr>\n",
       "    <tr>\n",
       "      <th>1</th>\n",
       "      <td>2020-07-01</td>\n",
       "      <td>3271.120117</td>\n",
       "      <td>3279.989990</td>\n",
       "      <td>3101.169922</td>\n",
       "      <td>3105.919922</td>\n",
       "      <td>96928130000</td>\n",
       "    </tr>\n",
       "    <tr>\n",
       "      <th>2</th>\n",
       "      <td>2020-08-01</td>\n",
       "      <td>3500.310059</td>\n",
       "      <td>3514.770020</td>\n",
       "      <td>3284.530029</td>\n",
       "      <td>3288.260010</td>\n",
       "      <td>82466520000</td>\n",
       "    </tr>\n",
       "  </tbody>\n",
       "</table>\n",
       "</div>"
      ],
      "text/plain": [
       "          ds            y   High_^GSPC    Low_^GSPC   Open_^GSPC  Volume_^GSPC\n",
       "0 2020-06-01  3100.290039  3233.129883  2965.659912  3038.780029  131458880000\n",
       "1 2020-07-01  3271.120117  3279.989990  3101.169922  3105.919922   96928130000\n",
       "2 2020-08-01  3500.310059  3514.770020  3284.530029  3288.260010   82466520000"
      ]
     },
     "execution_count": 38,
     "metadata": {},
     "output_type": "execute_result"
    }
   ],
   "source": [
    "df = df.rename(\n",
    "    columns={col: 'y' for col in df.columns if 'close' in col.lower()})\n",
    "df = df.rename(\n",
    "    columns={col: 'ds' for col in df.columns if 'date' in col.lower()})\n",
    "df.head(3)"
   ]
  },
  {
   "cell_type": "markdown",
   "id": "ce3029a4",
   "metadata": {},
   "source": [
    "Now we drop columns and clean."
   ]
  },
  {
   "cell_type": "code",
   "execution_count": 39,
   "id": "87cd6175",
   "metadata": {},
   "outputs": [
    {
     "data": {
      "text/html": [
       "<div>\n",
       "<style scoped>\n",
       "    .dataframe tbody tr th:only-of-type {\n",
       "        vertical-align: middle;\n",
       "    }\n",
       "\n",
       "    .dataframe tbody tr th {\n",
       "        vertical-align: top;\n",
       "    }\n",
       "\n",
       "    .dataframe thead th {\n",
       "        text-align: right;\n",
       "    }\n",
       "</style>\n",
       "<table border=\"1\" class=\"dataframe\">\n",
       "  <thead>\n",
       "    <tr style=\"text-align: right;\">\n",
       "      <th></th>\n",
       "      <th>ds</th>\n",
       "      <th>y</th>\n",
       "    </tr>\n",
       "  </thead>\n",
       "  <tbody>\n",
       "    <tr>\n",
       "      <th>0</th>\n",
       "      <td>2020-06-01</td>\n",
       "      <td>3100.290039</td>\n",
       "    </tr>\n",
       "    <tr>\n",
       "      <th>1</th>\n",
       "      <td>2020-07-01</td>\n",
       "      <td>3271.120117</td>\n",
       "    </tr>\n",
       "    <tr>\n",
       "      <th>2</th>\n",
       "      <td>2020-08-01</td>\n",
       "      <td>3500.310059</td>\n",
       "    </tr>\n",
       "  </tbody>\n",
       "</table>\n",
       "</div>"
      ],
      "text/plain": [
       "          ds            y\n",
       "0 2020-06-01  3100.290039\n",
       "1 2020-07-01  3271.120117\n",
       "2 2020-08-01  3500.310059"
      ]
     },
     "execution_count": 39,
     "metadata": {},
     "output_type": "execute_result"
    }
   ],
   "source": [
    "df = df[['ds', 'y']].dropna()\n",
    "df['y'] = pd.to_numeric(df['y'], errors='coerce')\n",
    "df = df.dropna()\n",
    "df.head(3)"
   ]
  },
  {
   "cell_type": "markdown",
   "id": "5654fec8",
   "metadata": {},
   "source": [
    "Forecast using Prophet."
   ]
  },
  {
   "cell_type": "code",
   "execution_count": 40,
   "id": "3e41b503",
   "metadata": {},
   "outputs": [
    {
     "name": "stderr",
     "output_type": "stream",
     "text": [
      "01:26:17 - cmdstanpy - INFO - Chain [1] start processing\n",
      "01:26:17 - cmdstanpy - INFO - Chain [1] done processing\n",
      "c:\\Users\\filos\\AppData\\Local\\Programs\\Python\\Python311\\Lib\\site-packages\\prophet\\forecaster.py:1854: FutureWarning:\n",
      "\n",
      "'M' is deprecated and will be removed in a future version, please use 'ME' instead.\n",
      "\n"
     ]
    }
   ],
   "source": [
    "model = Prophet()\n",
    "model.fit(df)\n",
    "future = model.make_future_dataframe(periods=12, freq='M')\n",
    "forecast = model.predict(future)"
   ]
  },
  {
   "cell_type": "code",
   "execution_count": 41,
   "id": "bdf8c11c",
   "metadata": {},
   "outputs": [],
   "source": [
    "forecast_plot = pd.merge(forecast[['ds', 'yhat']], df[['ds', 'y']], on='ds', how='left')\n",
    "cutoff_date = df['ds'].max()\n",
    "\n",
    "# Historical\n",
    "historical = forecast[forecast['ds'] <= cutoff_date]\n",
    "# Forecast (future only)\n",
    "future_forecast = forecast[forecast['ds'] > cutoff_date]"
   ]
  },
  {
   "cell_type": "markdown",
   "id": "0ffcb71b",
   "metadata": {},
   "source": [
    "Create the visuals"
   ]
  },
  {
   "cell_type": "code",
   "execution_count": 64,
   "id": "5eeef4b7",
   "metadata": {},
   "outputs": [
    {
     "data": {
      "application/vnd.plotly.v1+json": {
       "config": {
        "plotlyServerURL": "https://plot.ly"
       },
       "data": [
        {
         "line": {
          "color": "grey"
         },
         "mode": "lines",
         "name": "Observed",
         "type": "scatter",
         "x": [
          "2020-06-01T00:00:00.000000000",
          "2020-07-01T00:00:00.000000000",
          "2020-08-01T00:00:00.000000000",
          "2020-09-01T00:00:00.000000000",
          "2020-10-01T00:00:00.000000000",
          "2020-11-01T00:00:00.000000000",
          "2020-12-01T00:00:00.000000000",
          "2021-01-01T00:00:00.000000000",
          "2021-02-01T00:00:00.000000000",
          "2021-03-01T00:00:00.000000000",
          "2021-04-01T00:00:00.000000000",
          "2021-05-01T00:00:00.000000000",
          "2021-06-01T00:00:00.000000000",
          "2021-07-01T00:00:00.000000000",
          "2021-08-01T00:00:00.000000000",
          "2021-09-01T00:00:00.000000000",
          "2021-10-01T00:00:00.000000000",
          "2021-11-01T00:00:00.000000000",
          "2021-12-01T00:00:00.000000000",
          "2022-01-01T00:00:00.000000000",
          "2022-02-01T00:00:00.000000000",
          "2022-03-01T00:00:00.000000000",
          "2022-04-01T00:00:00.000000000",
          "2022-05-01T00:00:00.000000000",
          "2022-06-01T00:00:00.000000000",
          "2022-07-01T00:00:00.000000000",
          "2022-08-01T00:00:00.000000000",
          "2022-09-01T00:00:00.000000000",
          "2022-10-01T00:00:00.000000000",
          "2022-11-01T00:00:00.000000000",
          "2022-12-01T00:00:00.000000000",
          "2023-01-01T00:00:00.000000000",
          "2023-02-01T00:00:00.000000000",
          "2023-03-01T00:00:00.000000000",
          "2023-04-01T00:00:00.000000000",
          "2023-05-01T00:00:00.000000000",
          "2023-06-01T00:00:00.000000000",
          "2023-07-01T00:00:00.000000000",
          "2023-08-01T00:00:00.000000000",
          "2023-09-01T00:00:00.000000000",
          "2023-10-01T00:00:00.000000000",
          "2023-11-01T00:00:00.000000000",
          "2023-12-01T00:00:00.000000000",
          "2024-01-01T00:00:00.000000000",
          "2024-02-01T00:00:00.000000000",
          "2024-03-01T00:00:00.000000000",
          "2024-04-01T00:00:00.000000000",
          "2024-05-01T00:00:00.000000000",
          "2024-06-01T00:00:00.000000000",
          "2024-07-01T00:00:00.000000000",
          "2024-08-01T00:00:00.000000000",
          "2024-09-01T00:00:00.000000000",
          "2024-10-01T00:00:00.000000000",
          "2024-11-01T00:00:00.000000000",
          "2024-12-01T00:00:00.000000000",
          "2025-01-01T00:00:00.000000000",
          "2025-02-01T00:00:00.000000000",
          "2025-03-01T00:00:00.000000000",
          "2025-04-01T00:00:00.000000000",
          "2025-05-01T00:00:00.000000000"
         ],
         "y": {
          "bdata": "AAAAgJQ4qEAAAACAPY6pQAAAAMCeWKtAAAAAAABGqkAAAACA64upQAAAAIBCS6xAAAAA4CNYrUAAAADgegStQAAAAMBMxq1AAAAAoMcJr0AAAACAK1WwQAAAACAcbLBAAAAAAIDJsEAAAACAQiuxQAAAACCuqrFAAAAAQIrTsEAAAABAYf2xQAAAAAAA17FAAAAAIC6eskAAAADAjKOxQAAAAKDwFbFAAAAAAGmysUAAAAAg7iOwQAAAAGAmJLBAAAAAgMKSrUAAAABASiKwQAAAAAAA5q5AAAAAgD0DrEAAAADA9T+uQAAAAGA44K9AAAAAAAD/rUAAAABAM9mvQAAAAMBMBK9AAAAAYE8NsEAAAADgekmwQAAAAIDUU7BAAAAAQGFisUAAAADA9eyxQAAAAACpm7FAAAAAwAzAsEAAAADAzGGwQAAAAMDM17FAAAAAgNShskAAAABgpu2yQAAAACBF6LNAAAAAoFmGtEAAAACgsKuzQAAAAICCnbRAAAAA4HpUtUAAAADATJK1QAAAAGBmELZAAAAA4HqCtkAAAABAc0m2QAAAAEBhkLdAAAAAQKH5tkAAAACgh5i3QAAAAACAQrdAAAAAoNnrtUAAAABgD8G1QAAAAEBhRrdA",
          "dtype": "f8"
         }
        },
        {
         "line": {
          "color": "#005EB8"
         },
         "mode": "lines",
         "name": "Forecast",
         "type": "scatter",
         "x": [
          "2025-05-31T00:00:00.000000000",
          "2025-06-30T00:00:00.000000000",
          "2025-07-31T00:00:00.000000000",
          "2025-08-31T00:00:00.000000000",
          "2025-09-30T00:00:00.000000000",
          "2025-10-31T00:00:00.000000000",
          "2025-11-30T00:00:00.000000000",
          "2025-12-31T00:00:00.000000000",
          "2026-01-31T00:00:00.000000000",
          "2026-02-28T00:00:00.000000000",
          "2026-03-31T00:00:00.000000000",
          "2026-04-30T00:00:00.000000000"
         ],
         "y": {
          "bdata": "oQJlnDwQuEAAMmtIgNS5QP7kNp55/bhAHy4yjLemt0BPpng/Eba4QBqDId2Y07lAbvT4PnwlukC6PwgCpoS6QIko6ndWHrtAizTd+puaukA+4I3UbbC6QI/OMgl8FLpA",
          "dtype": "f8"
         }
        },
        {
         "fill": "toself",
         "fillcolor": "rgba(0, 94, 184, 0.2)",
         "hoverinfo": "skip",
         "line": {
          "color": "rgba(255,255,255,0)"
         },
         "name": "95% Confidence Interval",
         "showlegend": true,
         "type": "scatter",
         "x": [
          "2025-05-31T00:00:00",
          "2025-06-30T00:00:00",
          "2025-07-31T00:00:00",
          "2025-08-31T00:00:00",
          "2025-09-30T00:00:00",
          "2025-10-31T00:00:00",
          "2025-11-30T00:00:00",
          "2025-12-31T00:00:00",
          "2026-01-31T00:00:00",
          "2026-02-28T00:00:00",
          "2026-03-31T00:00:00",
          "2026-04-30T00:00:00",
          "2026-04-30T00:00:00",
          "2026-03-31T00:00:00",
          "2026-02-28T00:00:00",
          "2026-01-31T00:00:00",
          "2025-12-31T00:00:00",
          "2025-11-30T00:00:00",
          "2025-10-31T00:00:00",
          "2025-09-30T00:00:00",
          "2025-08-31T00:00:00",
          "2025-07-31T00:00:00",
          "2025-06-30T00:00:00",
          "2025-05-31T00:00:00"
         ],
         "y": [
          6410.174683271418,
          6873.14441132684,
          6671.882894488266,
          6323.760899883692,
          6583.5440440725715,
          6890.54075381586,
          6980.92155020857,
          7054.568410394312,
          7238.8198044715655,
          7114.513134501324,
          7142.801380499926,
          6997.611429634431,
          6372.70231129761,
          6522.417316213145,
          6537.984446137974,
          6667.3815031215845,
          6517.631922955592,
          6433.1142713489935,
          6335.909110566406,
          6054.272374087917,
          5797.5466364002805,
          6139.389417808563,
          6343.075394459411,
          5882.0271432162135
         ]
        }
       ],
       "layout": {
        "annotations": [
         {
          "font": {
           "color": "dark grey",
           "size": 11
          },
          "showarrow": false,
          "text": "Note: GSPC, 12mo forecast. SGMS 2025.",
          "x": 1,
          "xanchor": "right",
          "xref": "paper",
          "y": 0,
          "yanchor": "bottom",
          "yref": "paper"
         }
        ],
        "legend": {
         "x": 0.01,
         "y": 0.99
        },
        "template": {
         "data": {
          "candlestick": [
           {
            "decreasing": {
             "line": {
              "color": "#000033"
             }
            },
            "increasing": {
             "line": {
              "color": "#000032"
             }
            },
            "type": "candlestick"
           }
          ],
          "contour": [
           {
            "colorscale": [
             [
              0,
              "#000011"
             ],
             [
              0.1111111111111111,
              "#000012"
             ],
             [
              0.2222222222222222,
              "#000013"
             ],
             [
              0.3333333333333333,
              "#000014"
             ],
             [
              0.4444444444444444,
              "#000015"
             ],
             [
              0.5555555555555556,
              "#000016"
             ],
             [
              0.6666666666666666,
              "#000017"
             ],
             [
              0.7777777777777778,
              "#000018"
             ],
             [
              0.8888888888888888,
              "#000019"
             ],
             [
              1,
              "#000020"
             ]
            ],
            "type": "contour"
           }
          ],
          "contourcarpet": [
           {
            "colorscale": [
             [
              0,
              "#000011"
             ],
             [
              0.1111111111111111,
              "#000012"
             ],
             [
              0.2222222222222222,
              "#000013"
             ],
             [
              0.3333333333333333,
              "#000014"
             ],
             [
              0.4444444444444444,
              "#000015"
             ],
             [
              0.5555555555555556,
              "#000016"
             ],
             [
              0.6666666666666666,
              "#000017"
             ],
             [
              0.7777777777777778,
              "#000018"
             ],
             [
              0.8888888888888888,
              "#000019"
             ],
             [
              1,
              "#000020"
             ]
            ],
            "type": "contourcarpet"
           }
          ],
          "heatmap": [
           {
            "colorscale": [
             [
              0,
              "#000011"
             ],
             [
              0.1111111111111111,
              "#000012"
             ],
             [
              0.2222222222222222,
              "#000013"
             ],
             [
              0.3333333333333333,
              "#000014"
             ],
             [
              0.4444444444444444,
              "#000015"
             ],
             [
              0.5555555555555556,
              "#000016"
             ],
             [
              0.6666666666666666,
              "#000017"
             ],
             [
              0.7777777777777778,
              "#000018"
             ],
             [
              0.8888888888888888,
              "#000019"
             ],
             [
              1,
              "#000020"
             ]
            ],
            "type": "heatmap"
           }
          ],
          "histogram2d": [
           {
            "colorscale": [
             [
              0,
              "#000011"
             ],
             [
              0.1111111111111111,
              "#000012"
             ],
             [
              0.2222222222222222,
              "#000013"
             ],
             [
              0.3333333333333333,
              "#000014"
             ],
             [
              0.4444444444444444,
              "#000015"
             ],
             [
              0.5555555555555556,
              "#000016"
             ],
             [
              0.6666666666666666,
              "#000017"
             ],
             [
              0.7777777777777778,
              "#000018"
             ],
             [
              0.8888888888888888,
              "#000019"
             ],
             [
              1,
              "#000020"
             ]
            ],
            "type": "histogram2d"
           }
          ],
          "icicle": [
           {
            "textfont": {
             "color": "white"
            },
            "type": "icicle"
           }
          ],
          "sankey": [
           {
            "textfont": {
             "color": "#000036"
            },
            "type": "sankey"
           }
          ],
          "scatter": [
           {
            "marker": {
             "line": {
              "width": 0
             }
            },
            "type": "scatter"
           }
          ],
          "table": [
           {
            "cells": {
             "fill": {
              "color": "#000038"
             },
             "font": {
              "color": "#000037"
             },
             "line": {
              "color": "#000039"
             }
            },
            "header": {
             "fill": {
              "color": "#000040"
             },
             "font": {
              "color": "#000036"
             },
             "line": {
              "color": "#000039"
             }
            },
            "type": "table"
           }
          ],
          "waterfall": [
           {
            "connector": {
             "line": {
              "color": "#000036",
              "width": 2
             }
            },
            "decreasing": {
             "marker": {
              "color": "#000033"
             }
            },
            "increasing": {
             "marker": {
              "color": "#000032"
             }
            },
            "totals": {
             "marker": {
              "color": "#000034"
             }
            },
            "type": "waterfall"
           }
          ]
         },
         "layout": {
          "coloraxis": {
           "colorscale": [
            [
             0,
             "#000011"
            ],
            [
             0.1111111111111111,
             "#000012"
            ],
            [
             0.2222222222222222,
             "#000013"
            ],
            [
             0.3333333333333333,
             "#000014"
            ],
            [
             0.4444444444444444,
             "#000015"
            ],
            [
             0.5555555555555556,
             "#000016"
            ],
            [
             0.6666666666666666,
             "#000017"
            ],
            [
             0.7777777777777778,
             "#000018"
            ],
            [
             0.8888888888888888,
             "#000019"
            ],
            [
             1,
             "#000020"
            ]
           ]
          },
          "colorscale": {
           "diverging": [
            [
             0,
             "#000021"
            ],
            [
             0.1,
             "#000022"
            ],
            [
             0.2,
             "#000023"
            ],
            [
             0.3,
             "#000024"
            ],
            [
             0.4,
             "#000025"
            ],
            [
             0.5,
             "#000026"
            ],
            [
             0.6,
             "#000027"
            ],
            [
             0.7,
             "#000028"
            ],
            [
             0.8,
             "#000029"
            ],
            [
             0.9,
             "#000030"
            ],
            [
             1,
             "#000031"
            ]
           ],
           "sequential": [
            [
             0,
             "#000011"
            ],
            [
             0.1111111111111111,
             "#000012"
            ],
            [
             0.2222222222222222,
             "#000013"
            ],
            [
             0.3333333333333333,
             "#000014"
            ],
            [
             0.4444444444444444,
             "#000015"
            ],
            [
             0.5555555555555556,
             "#000016"
            ],
            [
             0.6666666666666666,
             "#000017"
            ],
            [
             0.7777777777777778,
             "#000018"
            ],
            [
             0.8888888888888888,
             "#000019"
            ],
            [
             1,
             "#000020"
            ]
           ],
           "sequentialminus": [
            [
             0,
             "#000011"
            ],
            [
             0.1111111111111111,
             "#000012"
            ],
            [
             0.2222222222222222,
             "#000013"
            ],
            [
             0.3333333333333333,
             "#000014"
            ],
            [
             0.4444444444444444,
             "#000015"
            ],
            [
             0.5555555555555556,
             "#000016"
            ],
            [
             0.6666666666666666,
             "#000017"
            ],
            [
             0.7777777777777778,
             "#000018"
            ],
            [
             0.8888888888888888,
             "#000019"
            ],
            [
             1,
             "#000020"
            ]
           ]
          },
          "colorway": [
           "#000001",
           "#000002",
           "#000003",
           "#000004",
           "#000005",
           "#000006",
           "#000007",
           "#000008",
           "#000009",
           "#000010"
          ]
         }
        },
        "title": {
         "font": {
          "color": "black",
          "family": "Arial",
          "size": 18
         },
         "text": "S&P 500 Forecast (Next 12 Months)"
        },
        "xaxis": {
         "linecolor": "black",
         "linewidth": 1,
         "showline": true,
         "title": {
          "text": "Date"
         }
        },
        "yaxis": {
         "linecolor": "black",
         "linewidth": 1,
         "showline": true,
         "title": {
          "text": "Price"
         }
        }
       }
      }
     },
     "metadata": {},
     "output_type": "display_data"
    }
   ],
   "source": [
    "fig = go.Figure()\n",
    "\n",
    "fig.add_trace(go.Scatter(\n",
    "    x=historical['ds'],\n",
    "    y=df['y'],\n",
    "    mode='lines',\n",
    "    name='Observed',\n",
    "    line=dict(color='grey')\n",
    "))\n",
    "\n",
    "# Forecast line\n",
    "fig.add_trace(go.Scatter(\n",
    "    x=future_forecast['ds'],\n",
    "    y=future_forecast['yhat'],\n",
    "    mode='lines',\n",
    "    name='Forecast',\n",
    "    line=dict(color='#005EB8')  # Pantone 300\n",
    "))\n",
    "\n",
    "# Uncertainty area (shaded region between yhat_lower and yhat_upper)\n",
    "fig.add_trace(go.Scatter(\n",
    "    x=list(future_forecast['ds']) + list(future_forecast['ds'])[::-1],\n",
    "    y=list(future_forecast['yhat_upper']) + list(future_forecast['yhat_lower'])[::-1],\n",
    "    fill='toself',\n",
    "    fillcolor='rgba(0, 94, 184, 0.2)',  # Pantone blue with transparency\n",
    "    line=dict(color='rgba(255,255,255,0)'),\n",
    "    hoverinfo=\"skip\",\n",
    "    showlegend=True,\n",
    "    name='95% Confidence Interval'\n",
    "))\n",
    "\n",
    "# Layout settings\n",
    "fig.update_layout(\n",
    "    title=dict(text='S&P 500 Forecast (Next 12 Months)',\n",
    "    font=dict(size=18, family='Arial', color='black')\n",
    "    ),\n",
    "    xaxis_title='Date',\n",
    "    yaxis_title='Price',\n",
    "    xaxis=dict(showline=True, linewidth=1, linecolor='black'),\n",
    "    yaxis=dict(showline=True, linewidth=1, linecolor='black'),\n",
    "    annotations=[\n",
    "        dict(\n",
    "            text='Note: GSPC, 12mo forecast. SGMS 2025.',\n",
    "            xref='paper', yref='paper',\n",
    "            x=1, y=0,  # bottom-right\n",
    "            showarrow=False,\n",
    "            font=dict(size=11, color='dark grey'),\n",
    "            xanchor='right', yanchor='bottom'\n",
    "        )\n",
    "    ],\n",
    "    legend=dict(\n",
    "        x=0.01,\n",
    "        y=0.99,\n",
    "    )\n",
    ")\n",
    "\n",
    "fig.show()"
   ]
  },
  {
   "cell_type": "markdown",
   "id": "23e013cd",
   "metadata": {},
   "source": [
    "Display in Streamlit"
   ]
  }
 ],
 "metadata": {
  "kernelspec": {
   "display_name": "Python 3",
   "language": "python",
   "name": "python3"
  },
  "language_info": {
   "codemirror_mode": {
    "name": "ipython",
    "version": 3
   },
   "file_extension": ".py",
   "mimetype": "text/x-python",
   "name": "python",
   "nbconvert_exporter": "python",
   "pygments_lexer": "ipython3",
   "version": "3.11.4"
  }
 },
 "nbformat": 4,
 "nbformat_minor": 5
}
