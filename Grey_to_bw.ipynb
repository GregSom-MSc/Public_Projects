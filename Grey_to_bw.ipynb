{
 "cells": [
  {
   "cell_type": "markdown",
   "metadata": {},
   "source": [
    "# Converts Greyscale image to a B/W one\n",
    "SGMS 2025"
   ]
  },
  {
   "cell_type": "code",
   "execution_count": 1,
   "metadata": {},
   "outputs": [],
   "source": [
    "from PIL import Image"
   ]
  },
  {
   "cell_type": "markdown",
   "metadata": {},
   "source": [
    "Check if the image you want to convert exists"
   ]
  },
  {
   "cell_type": "code",
   "execution_count": 6,
   "metadata": {},
   "outputs": [
    {
     "name": "stdout",
     "output_type": "stream",
     "text": [
      "File exists!\n"
     ]
    }
   ],
   "source": [
    "import os\n",
    "if os.path.exists(\"earth_map_bwgray.png\"):\n",
    "    print(\"File exists!\")\n",
    "else:\n",
    "    print(\"File DOES NOT exist!\")"
   ]
  },
  {
   "cell_type": "code",
   "execution_count": 18,
   "metadata": {},
   "outputs": [
    {
     "name": "stdout",
     "output_type": "stream",
     "text": [
      "Image saved to bw.png\n"
     ]
    }
   ],
   "source": [
    "def convert_grayscale_to_bw(image_path, output_path, threshold=128):\n",
    "    \"\"\"Converts a grayscale image to black and white based on a threshold.\n",
    "\n",
    "    Args:\n",
    "        image_path: Path to the input grayscale image.\n",
    "        output_path: Path to save the output black and white image.\n",
    "        threshold: Pixel value below which is considered black, above which is white.\n",
    "        Defaults to 128 (middle of 0-255 range).\n",
    "    \"\"\"\n",
    "    try:\n",
    "        img = Image.open(image_path).convert(\"L\")  # Use image_path\n",
    "        img_bw = img.point(lambda x: 0 if x < threshold else 255)\n",
    "        img_bw.save(output_path)  # Use output_path\n",
    "        print(f\"Image saved to {output_path}\")  # Correct print statement\n",
    "\n",
    "    except FileNotFoundError:\n",
    "        print(f\"Error: Image file not found at {image_path}\")  # Use image_path\n",
    "    except Exception as e:\n",
    "        print(f\"An error occurred: {e}\")\n",
    "\n",
    "# Example usage:\n",
    "input_image = \"earth_map_bwgray.png\"  # Replace with your input image path\n",
    "output_image = \"bw.png\"  # Replace with your desired output path\n",
    "threshold_value = 100  # You can change the threshold value.\n",
    "\n",
    "convert_grayscale_to_bw(input_image, output_image, threshold_value)\n"
   ]
  }
 ],
 "metadata": {
  "kernelspec": {
   "display_name": "Python 3",
   "language": "python",
   "name": "python3"
  },
  "language_info": {
   "codemirror_mode": {
    "name": "ipython",
    "version": 3
   },
   "file_extension": ".py",
   "mimetype": "text/x-python",
   "name": "python",
   "nbconvert_exporter": "python",
   "pygments_lexer": "ipython3",
   "version": "3.11.4"
  }
 },
 "nbformat": 4,
 "nbformat_minor": 2
}
